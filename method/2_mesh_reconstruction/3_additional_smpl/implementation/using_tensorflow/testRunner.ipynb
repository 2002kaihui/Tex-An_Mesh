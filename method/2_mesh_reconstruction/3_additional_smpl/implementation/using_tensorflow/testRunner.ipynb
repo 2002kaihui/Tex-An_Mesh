{
 "cells": [
  {
   "cell_type": "code",
   "execution_count": 2,
   "metadata": {},
   "outputs": [],
   "source": [
    "import sys\n",
    "import os\n",
    "import tensorflow as tf\n",
    "import numpy as np\n",
    "\n",
    "from src.batch_smpl import SMPL\n",
    "\n",
    "smpl_model_path = './models/neutral_smpl_with_cocoplus_reg.pkl'\n",
    "smpl_face_path = './src/smpl_faces.npy'\n",
    "\n",
    "result_path = './results'"
   ]
  },
  {
   "cell_type": "code",
   "execution_count": 3,
   "metadata": {},
   "outputs": [],
   "source": [
    "smpl_model = SMPL(smpl_model_path)\n",
    "\n",
    "betas = np.random.randn(1, 10).astype(np.float32) * 0.1\n",
    "thetas = np.random.randn(1, 72).astype(np.float32) * 0.2"
   ]
  },
  {
   "cell_type": "code",
   "execution_count": 4,
   "metadata": {},
   "outputs": [
    {
     "name": "stdout",
     "output_type": "stream",
     "text": [
      "WARNING:tensorflow:From /home/levon/MyProjects/Photo_Wake-Up/src/SMPL/TensorFlow/src/batch_smpl.py:96: The name tf.variable_scope is deprecated. Please use tf.compat.v1.variable_scope instead.\n",
      "\n",
      "WARNING:tensorflow:From /home/levon/MyProjects/Photo_Wake-Up/src/SMPL/TensorFlow/src/batch_lbs.py:46: div (from tensorflow.python.ops.math_ops) is deprecated and will be removed in a future version.\n",
      "Instructions for updating:\n",
      "Deprecated in favor of operator or tf.math.divide.\n"
     ]
    }
   ],
   "source": [
    "# import scipy.io\n",
    "# info_dict = scipy.io.loadmat(os.path.join(dirpath, '32_07_c0001_info.mat'))\n",
    "# thetas = np.transpose(info_dict['pose'], (1, 0))[0, np.newaxis]\n",
    "# betas = np.transpose(info_dict['shape'], (1, 0))[0, np.newaxis]\n",
    "\n",
    "verts, _, _ = smpl_model(betas, thetas, get_skin=True)\n",
    "verts = verts[0]\n",
    "\n",
    "config = tf.ConfigProto()\n",
    "config.gpu_options.allow_growth = True  # pylint: disable=no-member\n",
    "sess = tf.Session(config=config)\n",
    "result = sess.run(verts)\n",
    "\n",
    "faces = np.load(smpl_face_path)\n",
    "\n",
    "outmesh_path = os.path.join(result_path, 'smpl_tf.obj')\n",
    "with open(outmesh_path, 'w') as fp:\n",
    "    for v in result:\n",
    "        fp.write('v %f %f %f\\n' % (v[0], v[1], v[2]))\n",
    "\n",
    "    for f in faces + 1:\n",
    "        fp.write('f %d %d %d\\n' % (f[0], f[1], f[2]))"
   ]
  },
  {
   "cell_type": "code",
   "execution_count": null,
   "metadata": {},
   "outputs": [],
   "source": []
  }
 ],
 "metadata": {
  "kernelspec": {
   "display_name": "Python 3",
   "language": "python",
   "name": "python3"
  },
  "language_info": {
   "codemirror_mode": {
    "name": "ipython",
    "version": 3
   },
   "file_extension": ".py",
   "mimetype": "text/x-python",
   "name": "python",
   "nbconvert_exporter": "python",
   "pygments_lexer": "ipython3",
   "version": "3.6.9"
  }
 },
 "nbformat": 4,
 "nbformat_minor": 2
}
